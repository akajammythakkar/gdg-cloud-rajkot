{
  "nbformat": 4,
  "nbformat_minor": 0,
  "metadata": {
    "colab": {
      "provenance": [],
      "include_colab_link": true
    },
    "kernelspec": {
      "name": "python3",
      "display_name": "Python 3"
    },
    "language_info": {
      "name": "python"
    }
  },
  "cells": [
    {
      "cell_type": "markdown",
      "metadata": {
        "id": "view-in-github",
        "colab_type": "text"
      },
      "source": [
        "<a href=\"https://colab.research.google.com/github/akajammythakkar/gdg-cloud-rajkot/blob/main/MultiModal%20Gemini%20-%20Gdg%20Cloud%20Rajkot.ipynb\" target=\"_parent\"><img src=\"https://colab.research.google.com/assets/colab-badge.svg\" alt=\"Open In Colab\"/></a>"
      ]
    },
    {
      "cell_type": "markdown",
      "source": [
        "# Before proceeding, go to \"File\" and select option \"Save a copy in drive\" then and only then proceed. <br>\n",
        "# <font color=\"red\">  YOU WILL NOT BE ABLE TO SAVE CHANGES IN THIS NOTEBOOK </font>"
      ],
      "metadata": {
        "id": "UnGEs6Xb6DpJ"
      }
    },
    {
      "cell_type": "markdown",
      "source": [
        "## Set the API key"
      ],
      "metadata": {
        "id": "zChzuoVO6GVT"
      }
    },
    {
      "cell_type": "markdown",
      "source": [
        "\n",
        "## **Add your API_KEY to the secrets manager in the left pannel \"🔑\".**\n",
        "\n",
        "#### To get api key follw the steps:\n",
        "  - go to https://aistudio.google.com/\n",
        "  - If you are a first time user then you'll be asked for privacy and agreement\n",
        "  - After accepting navigate to the left panel.\n",
        "  - You will find a button saying \"Get API Key\" placed exactly below google ai studio, click that.\n",
        "  - Then you will be redirected to API keys page.\n",
        "  - There will be a button saying \"Create API key in new project\", click that.\n",
        "  - After that you will get your api key in few moments.\n",
        "  - Copy that and paste it in key secrets in google colab."
      ],
      "metadata": {
        "id": "MZXxng9f6G12"
      }
    },
    {
      "cell_type": "markdown",
      "source": [
        "##### Install Library"
      ],
      "metadata": {
        "id": "OO0Tj0i1_iZv"
      }
    },
    {
      "cell_type": "code",
      "source": [
        "\"\"\"\n",
        "At the command line, only need to run once to install the package via pip:\n",
        "\n",
        "$ pip install google-generativeai\n",
        "\"\"\""
      ],
      "metadata": {
        "colab": {
          "base_uri": "https://localhost:8080/",
          "height": 35
        },
        "id": "1GJKPpi5_hfa",
        "outputId": "0a752348-f363-4f47-d28c-2dc8e2800858"
      },
      "execution_count": 1,
      "outputs": [
        {
          "output_type": "execute_result",
          "data": {
            "text/plain": [
              "'\\nAt the command line, only need to run once to install the package via pip:\\n\\n$ pip install google-generativeai\\n'"
            ],
            "application/vnd.google.colaboratory.intrinsic+json": {
              "type": "string"
            }
          },
          "metadata": {},
          "execution_count": 1
        }
      ]
    },
    {
      "cell_type": "markdown",
      "source": [
        "#### Import Libraries"
      ],
      "metadata": {
        "id": "GBqthZT__mi4"
      }
    },
    {
      "cell_type": "code",
      "execution_count": 1,
      "metadata": {
        "id": "sJ5bxHzk5c1z"
      },
      "outputs": [],
      "source": [
        "from pathlib import Path\n",
        "import hashlib\n",
        "import google.generativeai as genai\n",
        "from google.colab import userdata # To get API key from Env\n",
        "genai.configure(api_key=userdata.get('API_KEY'))"
      ]
    },
    {
      "cell_type": "code",
      "source": [
        "# Create the model\n",
        "# See https://ai.google.dev/api/python/google/generativeai/GenerativeModel\n",
        "generation_config = {\n",
        "  \"temperature\": 1,\n",
        "  \"top_p\": 0.95,\n",
        "  \"top_k\": 64,\n",
        "  \"max_output_tokens\": 8192,\n",
        "  \"response_mime_type\": \"text/plain\",\n",
        "}\n"
      ],
      "metadata": {
        "id": "FZ9JwJqp5l9n"
      },
      "execution_count": 2,
      "outputs": []
    },
    {
      "cell_type": "code",
      "source": [
        "model = genai.GenerativeModel(\n",
        "model_name=\"gemini-1.5-flash\",\n",
        "generation_config=generation_config,\n",
        "# safety_settings = Adjust safety settings\n",
        "# See https://ai.google.dev/gemini-api/docs/safety-settings\n",
        ")"
      ],
      "metadata": {
        "id": "H8M5vxIb6oKl"
      },
      "execution_count": 3,
      "outputs": []
    },
    {
      "cell_type": "code",
      "source": [
        "files = [] #list to store uploaded file paths\n",
        "path = \"/content/picture 2.jpg\" #image path\n",
        "\n",
        "def upload_to_gemini(path, mime_type=None):\n",
        "  \"\"\"Uploads the given file to Gemini.\n",
        "\n",
        "  See https://ai.google.dev/gemini-api/docs/prompting_with_media\n",
        "  \"\"\"\n",
        "  file = genai.upload_file(path, mime_type=mime_type)\n",
        "  print(f\"Uploaded file '{file.display_name}' as: {file.uri}\")\n",
        "  return file"
      ],
      "metadata": {
        "id": "WdAlTm_b5rdg"
      },
      "execution_count": 4,
      "outputs": []
    },
    {
      "cell_type": "code",
      "source": [
        "# Defining Prompt\n",
        "prompt_parts = [\n",
        "  \"What does this image has?\\n\",\n",
        "  upload_to_gemini(path),\n",
        "  \"\\n\",\n",
        "]"
      ],
      "metadata": {
        "colab": {
          "base_uri": "https://localhost:8080/",
          "height": 34
        },
        "id": "R1f_y2Vs7m9r",
        "outputId": "1d4349e2-1f91-4794-fd0d-76e90c1eef1b"
      },
      "execution_count": 5,
      "outputs": [
        {
          "output_type": "stream",
          "name": "stdout",
          "text": [
            "Uploaded file 'picture 2.jpg' as: https://generativelanguage.googleapis.com/v1beta/files/b929prksmznq\n"
          ]
        }
      ]
    },
    {
      "cell_type": "code",
      "source": [
        "# initialize the chat response\n",
        "chat_session = model.start_chat()\n",
        "\n",
        "# send it to llm to generate response\n",
        "response = chat_session.send_message(prompt_parts)"
      ],
      "metadata": {
        "id": "UZnWP1wmjCVM"
      },
      "execution_count": 6,
      "outputs": []
    },
    {
      "cell_type": "code",
      "source": [
        "# Printing the response\n",
        "print(response.text)"
      ],
      "metadata": {
        "colab": {
          "base_uri": "https://localhost:8080/"
        },
        "id": "9opw3oSl6q2Q",
        "outputId": "342d4f57-6cb0-4d0c-8bdb-8d9717100f4b"
      },
      "execution_count": 7,
      "outputs": [
        {
          "output_type": "stream",
          "name": "stdout",
          "text": [
            "The image has a white horse standing in a field of grass. The horse is facing away from the camera and has a brown leather halter on. The background is a blurry forest with golden sunlight filtering through the trees.\n"
          ]
        }
      ]
    },
    {
      "cell_type": "code",
      "source": [],
      "metadata": {
        "id": "NvwDx8PR8Rlu"
      },
      "execution_count": 7,
      "outputs": []
    }
  ]
}